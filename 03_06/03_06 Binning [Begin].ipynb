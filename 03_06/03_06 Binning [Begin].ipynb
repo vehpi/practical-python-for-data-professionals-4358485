{
 "cells": [
  {
   "cell_type": "markdown",
   "metadata": {},
   "source": [
    "# Credit Card Retention Analysis"
   ]
  },
  {
   "cell_type": "markdown",
   "metadata": {},
   "source": [
    "### Imports"
   ]
  },
  {
   "cell_type": "code",
   "execution_count": 1,
   "metadata": {},
   "outputs": [],
   "source": [
    "import pandas as pd\n",
    "import matplotlib.pyplot as plt\n",
    "import seaborn as sns\n",
    "import numpy as np\n",
    "import plotly.graph_objs as go\n",
    "from plotly.offline import iplot\n",
    "sns.set()\n",
    "pd.options.display.max_columns = 999"
   ]
  },
  {
   "cell_type": "code",
   "execution_count": 2,
   "metadata": {},
   "outputs": [],
   "source": [
    "data = pd.read_csv('../data/BankChurners_v2.csv')"
   ]
  },
  {
   "cell_type": "code",
   "execution_count": 3,
   "metadata": {},
   "outputs": [],
   "source": [
    "data = data[['CLIENTNUM', 'Attrition_Flag', 'Customer_Age', 'Gender',\n",
    "       'Dependent_count', 'Education_Level', 'Marital_Status',\n",
    "       'Income_Category', 'Card_Category', 'Months_on_book',\n",
    "       'Total_Relationship_Count', 'Months_Inactive_12_mon',\n",
    "       'Contacts_Count_12_mon', 'Credit_Limit', 'Total_Revolving_Bal',\n",
    "       'Avg_Open_To_Buy', 'Total_Amt_Chng_Q4_Q1', 'Total_Trans_Amt',\n",
    "       'Total_Trans_Ct', 'Total_Ct_Chng_Q4_Q1', 'Avg_Utilization_Ratio',]]"
   ]
  },
  {
   "cell_type": "code",
   "execution_count": 4,
   "metadata": {},
   "outputs": [
    {
     "data": {
      "text/plain": [
       "CLIENTNUM                      0\n",
       "Attrition_Flag                 0\n",
       "Customer_Age                   0\n",
       "Gender                         0\n",
       "Dependent_count                0\n",
       "Education_Level             1519\n",
       "Marital_Status               749\n",
       "Income_Category             1112\n",
       "Card_Category                  0\n",
       "Months_on_book                 0\n",
       "Total_Relationship_Count       0\n",
       "Months_Inactive_12_mon         0\n",
       "Contacts_Count_12_mon          0\n",
       "Credit_Limit                   0\n",
       "Total_Revolving_Bal            0\n",
       "Avg_Open_To_Buy                0\n",
       "Total_Amt_Chng_Q4_Q1           0\n",
       "Total_Trans_Amt                0\n",
       "Total_Trans_Ct                 0\n",
       "Total_Ct_Chng_Q4_Q1            0\n",
       "Avg_Utilization_Ratio          0\n",
       "dtype: int64"
      ]
     },
     "execution_count": 4,
     "metadata": {},
     "output_type": "execute_result"
    }
   ],
   "source": [
    "data.isnull().sum()"
   ]
  },
  {
   "cell_type": "code",
   "execution_count": 5,
   "id": "74dffb36",
   "metadata": {},
   "outputs": [
    {
     "name": "stdout",
     "output_type": "stream",
     "text": [
      "CLIENTNUM                   0\n",
      "Attrition_Flag              0\n",
      "Customer_Age                0\n",
      "Gender                      0\n",
      "Dependent_count             0\n",
      "Education_Level             0\n",
      "Marital_Status              0\n",
      "Income_Category             0\n",
      "Card_Category               0\n",
      "Months_on_book              0\n",
      "Total_Relationship_Count    0\n",
      "Months_Inactive_12_mon      0\n",
      "Contacts_Count_12_mon       0\n",
      "Credit_Limit                0\n",
      "Total_Revolving_Bal         0\n",
      "Avg_Open_To_Buy             0\n",
      "Total_Amt_Chng_Q4_Q1        0\n",
      "Total_Trans_Amt             0\n",
      "Total_Trans_Ct              0\n",
      "Total_Ct_Chng_Q4_Q1         0\n",
      "Avg_Utilization_Ratio       0\n",
      "dtype: int64\n"
     ]
    }
   ],
   "source": [
    "for i in data.columns[np.where(data.isnull().sum().values>0)]:\n",
    "  data[i]=data[i].fillna('Unknown')\n",
    "\n",
    "print(data.isnull().sum())"
   ]
  },
  {
   "cell_type": "markdown",
   "metadata": {},
   "source": [
    "***"
   ]
  },
  {
   "cell_type": "markdown",
   "metadata": {},
   "source": [
    "## Data Transformation: Binning"
   ]
  },
  {
   "cell_type": "markdown",
   "metadata": {},
   "source": [
    "To bin our ages, we will need a couple data points: the min and max ages. Let's find those."
   ]
  },
  {
   "cell_type": "code",
   "execution_count": null,
   "metadata": {},
   "outputs": [],
   "source": []
  },
  {
   "cell_type": "markdown",
   "metadata": {},
   "source": [
    "For more information, see the documentation [here](https://pandas.pydata.org/pandas-docs/stable/reference/api/pandas.cut.html). "
   ]
  },
  {
   "cell_type": "code",
   "execution_count": null,
   "metadata": {},
   "outputs": [],
   "source": []
  },
  {
   "cell_type": "code",
   "execution_count": null,
   "metadata": {
    "scrolled": false
   },
   "outputs": [],
   "source": []
  },
  {
   "cell_type": "code",
   "execution_count": null,
   "metadata": {},
   "outputs": [],
   "source": []
  }
 ],
 "metadata": {
  "kernelspec": {
   "display_name": "Python 3",
   "language": "python",
   "name": "python3"
  },
  "language_info": {
   "codemirror_mode": {
    "name": "ipython",
    "version": 3
   },
   "file_extension": ".py",
   "mimetype": "text/x-python",
   "name": "python",
   "nbconvert_exporter": "python",
   "pygments_lexer": "ipython3",
   "version": "3.10.8"
  },
  "vscode": {
   "interpreter": {
    "hash": "3ad933181bd8a04b432d3370b9dc3b0662ad032c4dfaa4e4f1596c548f763858"
   }
  }
 },
 "nbformat": 4,
 "nbformat_minor": 5
}
